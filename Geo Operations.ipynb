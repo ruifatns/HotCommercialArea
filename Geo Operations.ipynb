{
 "cells": [
  {
   "cell_type": "code",
   "execution_count": 1,
   "id": "df0dd500",
   "metadata": {},
   "outputs": [],
   "source": [
    "# 初始化\n",
    "import os\n",
    "import geopandas as gpd\n",
    "import pandas as pd\n",
    "import matplotlib.pyplot as plt\n"
   ]
  },
  {
   "cell_type": "code",
   "execution_count": 7,
   "id": "62317aa0",
   "metadata": {},
   "outputs": [
    {
     "name": "stdout",
     "output_type": "stream",
     "text": [
      "处理完成\n"
     ]
    },
    {
     "name": "stderr",
     "output_type": "stream",
     "text": [
      "C:\\Users\\20324\\AppData\\Local\\Temp\\ipykernel_19276\\4067138483.py:42: UserWarning: Column names longer than 10 characters will be truncated when saved to ESRI Shapefile.\n",
      "  merged_gdf.to_file(r'data\\output.shp', driver='ESRI Shapefile', encoding='utf-8')\n",
      "e:\\Program Files\\anaconda\\envs\\GIS\\Lib\\site-packages\\pyogrio\\raw.py:723: RuntimeWarning: Normalized/laundered field name: 'polygon_index' to 'polygon_in'\n",
      "  ogr_write(\n",
      "e:\\Program Files\\anaconda\\envs\\GIS\\Lib\\site-packages\\pyogrio\\raw.py:723: RuntimeWarning: Normalized/laundered field name: 'point_count' to 'point_coun'\n",
      "  ogr_write(\n"
     ]
    }
   ],
   "source": [
    "'''\n",
    "将点要素空间连接到面要素中，同时实现对一个面包含的点的user_quantity值进行求和\n",
    "'''\n",
    "\n",
    "# 读取数据\n",
    "polygon_gdf = gpd.read_file(r\"E:\\gis\\data\\test\\clipL4.shp\")\n",
    "points_gdf = gpd.read_file(r\"E:\\gis\\data\\test\\clip_data.shp\")\n",
    "\n",
    "# 确保坐标系统一致\n",
    "if polygon_gdf.crs != points_gdf.crs:\n",
    "    points_gdf = points_gdf.to_crs(polygon_gdf.crs)\n",
    "\n",
    "# 处理每个面，计算内部点的总和并合并属性\n",
    "results = []\n",
    "for idx, polygon_row in polygon_gdf.iterrows():\n",
    "    current_polygon = polygon_row['geometry']\n",
    "    points_in_polygon = points_gdf[points_gdf.within(current_polygon)]\n",
    "    \n",
    "    if not points_in_polygon.empty:\n",
    "        sum_value = points_in_polygon['user_quant'].sum()\n",
    "        polygon_attr = polygon_row.drop('geometry')\n",
    "            \n",
    "        # 合并属性（添加前缀避免字段名冲突）\n",
    "        merged_record = pd.concat([\n",
    "        pd.Series({'sum_value': sum_value}),\n",
    "        polygon_attr.add_prefix('polygon_'),\n",
    "        pd.Series({'point_count': len(points_in_polygon)})  # 添加点计数作为参考\n",
    "    ])\n",
    "        results.append({\n",
    "            'data': merged_record,\n",
    "            'geometry': current_polygon\n",
    "        })\n",
    "\n",
    "# 转换为 GeoDataFrame（使用多边形几何）\n",
    "merged_df = pd.DataFrame([item['data'] for item in results])\n",
    "merged_gdf = gpd.GeoDataFrame(\n",
    "    merged_df,\n",
    "    geometry=[item['geometry'] for item in results],\n",
    "    crs=polygon_gdf.crs\n",
    ")\n",
    "\n",
    "merged_gdf.to_file(r'data\\output.shp', driver='ESRI Shapefile', encoding='utf-8')\n",
    "print('处理完成')\n"
   ]
  }
 ],
 "metadata": {
  "kernelspec": {
   "display_name": "GIS",
   "language": "python",
   "name": "python3"
  },
  "language_info": {
   "codemirror_mode": {
    "name": "ipython",
    "version": 3
   },
   "file_extension": ".py",
   "mimetype": "text/x-python",
   "name": "python",
   "nbconvert_exporter": "python",
   "pygments_lexer": "ipython3",
   "version": "3.11.13"
  }
 },
 "nbformat": 4,
 "nbformat_minor": 5
}
