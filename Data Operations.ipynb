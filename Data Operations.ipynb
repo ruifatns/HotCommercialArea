{
 "cells": [
  {
   "cell_type": "code",
   "execution_count": 28,
   "id": "9e8757f0",
   "metadata": {},
   "outputs": [],
   "source": [
    "import sqlite3\n",
    "import csv\n",
    "\n",
    "'''\n",
    "全局配置\n",
    "'''\n",
    "db_file = r\"E:\\gis\\data\\440100-trip_resident\\Mobile Signaling.db\"\n",
    "table_name = 'data'\n"
   ]
  },
  {
   "cell_type": "code",
   "execution_count": 29,
   "id": "73a0763d",
   "metadata": {},
   "outputs": [
    {
     "name": "stdout",
     "output_type": "stream",
     "text": [
      "record_date, travel_period, purpose, city, o_lng, o_lat, d_lng, d_lat, user_quantity, hour\n",
      "(20241020, '16:00-16:30', '其家', 440100, 112.9875, 23.4475, 113.1975, 23.1575, 2, 16)\n",
      "(20241020, '22:00-22:30', '其家', 440100, 112.9875, 23.4475, 113.1975, 23.1575, 1, 22)\n",
      "(20241020, '17:30-18:00', '其其', 440100, 112.9875, 23.4475, 113.2125, 23.1175, 1, 17)\n",
      "(20241020, '17:30-18:00', '其其', 440100, 112.9875, 23.4475, 113.2325, 23.2625, 1, 17)\n",
      "(20241020, '16:00-16:30', '其家', 440100, 112.9875, 23.4475, 113.2375, 23.1925, 1, 16)\n",
      "(20241020, '19:00-19:30', '其其', 440100, 112.9875, 23.4475, 113.2425, 23.1475, 1, 19)\n",
      "(20241020, '19:00-19:30', '其其', 440100, 112.9875, 23.4475, 113.2425, 23.1475, 1, 19)\n",
      "(20241020, '14:30-15:00', '其家', 440100, 112.9875, 23.4475, 113.2425, 23.1525, 1, 14)\n",
      "(20241020, '17:30-18:00', '其其', 440100, 112.9875, 23.4475, 113.2425, 23.1525, 1, 17)\n",
      "(20241020, '19:30-20:00', '其家', 440100, 112.9875, 23.4475, 113.2425, 23.1525, 1, 19)\n",
      "(20241020, '20:00-20:30', '其其', 440100, 112.9875, 23.4475, 113.2425, 23.1525, 1, 20)\n",
      "(20241020, '20:30-21:00', '其家', 440100, 112.9875, 23.4475, 113.2425, 23.1525, 1, 20)\n",
      "(20241020, '21:00-21:30', '其职', 440100, 112.9875, 23.4475, 113.2425, 23.1525, 1, 21)\n",
      "(20241020, '14:00-14:30', '其其', 440100, 112.9875, 23.4475, 113.2575, 23.1475, 1, 14)\n",
      "(20241020, '18:00-18:30', '家其', 440100, 112.9875, 23.4475, 113.2575, 23.1725, 1, 18)\n",
      "(20241020, '14:00-14:30', '其家', 440100, 112.9875, 23.4475, 113.2575, 23.1725, 1, 14)\n",
      "(20241020, '14:30-15:00', '其其', 440100, 112.9875, 23.4475, 113.2575, 23.1725, 1, 14)\n",
      "(20241020, '14:30-15:00', '其家', 440100, 112.9875, 23.4475, 113.2575, 23.1725, 2, 14)\n",
      "(20241020, '14:30-15:00', '家其', 440100, 112.9875, 23.4475, 113.2575, 23.1725, 1, 14)\n",
      "(20241020, '15:30-16:00', '其其', 440100, 112.9875, 23.4475, 113.2575, 23.1725, 1, 15)\n"
     ]
    }
   ],
   "source": [
    "'''\n",
    "测试\n",
    "'''\n",
    "\n",
    "conn = sqlite3.connect(db_file)\n",
    "cursor = conn.cursor()\n",
    "\n",
    "cursor.execute(\"SELECT * FROM data LIMIT 20\")\n",
    "rows = cursor.fetchall()\n",
    "\n",
    "column_names = [description[0] for description in cursor.description]\n",
    "print(\", \".join(column_names))\n",
    "for row in rows:\n",
    "    print(row)\n",
    "\n",
    "conn.close()\n"
   ]
  },
  {
   "cell_type": "code",
   "execution_count": 31,
   "id": "7e04459e",
   "metadata": {},
   "outputs": [
    {
     "name": "stdout",
     "output_type": "stream",
     "text": [
      "表 'data' 的行数: 3,635,466\n"
     ]
    }
   ],
   "source": [
    "'''\n",
    "查看行数\n",
    "'''\n",
    "\n",
    "with sqlite3.connect(db_file) as conn:\n",
    "    cursor = conn.execute(f\"SELECT COUNT(*) FROM {table_name}\")\n",
    "    row_num = cursor.fetchone()[0]\n",
    "print(f\"表 '{table_name}' 的行数: {row_num:,}\")\n"
   ]
  },
  {
   "cell_type": "code",
   "execution_count": null,
   "id": "dda47b26",
   "metadata": {},
   "outputs": [],
   "source": [
    "'''\n",
    "手机信令处理: 合并相同坐标和user_quantity,删除o坐标和travel_period\n",
    "'''\n",
    "\n",
    "cursor.execute('''\n",
    "            CREATE TEMP TABLE temp_travel_data AS\n",
    "            SELECT \n",
    "                record_date,\n",
    "                d_lng,\n",
    "                d_lat,\n",
    "                SUM(user_quantity) AS user_quantity\n",
    "            FROM \n",
    "                data\n",
    "            GROUP BY \n",
    "                record_date, d_lng, d_lat;\n",
    "        ''')\n",
    "cursor.execute('DELETE FROM data;')\n",
    "cursor.execute('''\n",
    "    INSERT INTO data (record_date, d_lng, d_lat, user_quantity)\n",
    "    SELECT record_date, d_lng, d_lat, user_quantity FROM temp_travel_data;\n",
    "''')\n",
    "cursor.execute('DROP TABLE temp_travel_data;')\n",
    "\n",
    "conn.commit()\n",
    "print(\"数据处理完成并已提交。\")\n",
    "if conn:\n",
    "    conn.close()\n",
    "    print(\"数据库连接已关闭。\")\n"
   ]
  },
  {
   "cell_type": "code",
   "execution_count": null,
   "id": "523ed3f5",
   "metadata": {},
   "outputs": [],
   "source": [
    "'''\n",
    "1,将user_quantity的值从大到小绘制\n",
    "2,循环头尾分割法\n",
    "'''\n",
    "\n",
    "import matplotlib.pyplot as plt\n",
    "import numpy as np\n",
    "\n",
    "\n",
    "def plot_above_average_data(db_file):\n",
    "    cursor.execute(\"SELECT user_quantity FROM data\")\n",
    "    user_quantity_list = [row[0] for row in cursor.fetchall()]\n",
    "    sorted_data = sorted(user_quantity_list, reverse=True)\n",
    "    # 计算平均值并过滤小于平均值的数据\n",
    "    while True:\n",
    "        if not sorted_data:\n",
    "            print(\"数据为空，无法继续处理\")\n",
    "            return None\n",
    "        ave = sum(sorted_data) / len(sorted_data)\n",
    "        print(f\"当前平均值: {ave}\")\n",
    "        # 找到第一个小于平均值的索引\n",
    "        clipnum = next((i for i, j in enumerate(sorted_data) if j < ave), len(sorted_data))\n",
    "        filtered_data = sorted_data[:clipnum]\n",
    "        print(f\"过滤前数据点数: {len(sorted_data)}\")\n",
    "        print(f\"过滤后数据点数: {len(filtered_data)}\")\n",
    "        # 绘制折线图\n",
    "        plt.figure(figsize=(10, 6))\n",
    "        plt.plot(range(1, len(filtered_data) + 1), filtered_data, 'o-', color='b')\n",
    "        plt.title(\"休憩人数降序排列\")\n",
    "        plt.xlabel(\"排名\")\n",
    "        plt.ylabel(\"休憩人数\")\n",
    "        plt.grid(True, linestyle='--', alpha=0.7)\n",
    "        # 动态设置y轴刻度，避免过密\n",
    "        max_val = max(filtered_data) if filtered_data else 0\n",
    "        plt.yticks(np.arange(0, max_val + 1, max(1000, max_val // 10)))\n",
    "        plt.tight_layout()\n",
    "        plt.show()\n",
    "        \n",
    "        user_input = input(\"是否继续过滤数据?输入True继续,其他任意键退出: \").strip().lower()\n",
    "        if user_input != 'true':\n",
    "            break\n",
    "        \n",
    "        sorted_data = filtered_data\n",
    "\n",
    "    conn.close()\n",
    "    return filtered_data\n",
    "\n",
    "\n",
    "p1 = r\"E:\\gis\\data\\440100-trip_resident\\destination.db\"\n",
    "# 第一次绘制\n",
    "conn = sqlite3.connect(p1)\n",
    "cursor = conn.cursor()\n",
    "cursor.execute(\"SELECT user_quantity FROM data\")\n",
    "user_quantity_list = [row[0] for row in cursor.fetchall()]\n",
    "sorted_data = sorted(user_quantity_list, reverse=True)\n",
    "\n",
    "plt.rcParams[\"font.family\"] = [\"SimHei\"]\n",
    "plt.figure(figsize=(10, 6))\n",
    "plt.plot(range(1, len(sorted_data) + 1), sorted_data, 'o-', color='b')\n",
    "plt.title(\"休憩人数降序排列\")\n",
    "plt.xlabel(\"排名\")\n",
    "plt.ylabel(\"休憩人数\")\n",
    "plt.grid(True, linestyle='--', alpha=0.7)\n",
    "plt.yticks(np.arange(0, 35000, 1000))\n",
    "plt.xticks(np.arange(0, 6000, 500)) \n",
    "plt.tight_layout()\n",
    "plt.show()\n",
    "plot_above_average_data(db_file=p1)\n"
   ]
  },
  {
   "cell_type": "code",
   "execution_count": null,
   "id": "3156492c",
   "metadata": {},
   "outputs": [
    {
     "name": "stdout",
     "output_type": "stream",
     "text": [
      "写入了3625466条数据\n",
      "写入完成\n"
     ]
    }
   ],
   "source": [
    "'''\n",
    "sqlite导出为csv\n",
    "'''\n",
    "\n",
    "export_csvpath = r'data\\export.csv'\n",
    "with open(export_csvpath, 'w', newline='', encoding='utf-8') as f:\n",
    "    writer = csv.writer(f)\n",
    "    with sqlite3.connect(db_file) as conn:\n",
    "        cursor = conn.execute(f\"SELECT * FROM {table_name}\")\n",
    "        batch_data = cursor.fetchmany(10000)\n",
    "        writer.writerow([i[0] for i in cursor.description])\n",
    "        count = 0\n",
    "        while batch_data:\n",
    "            writer.writerows(batch_data)\n",
    "            batch_data = cursor.fetchmany(10000)\n",
    "            count += len(batch_data)\n",
    "        print(f'写入了{count}条数据')\n",
    "        print(f'写入完成')\n"
   ]
  }
 ],
 "metadata": {
  "kernelspec": {
   "display_name": "GIS",
   "language": "python",
   "name": "python3"
  },
  "language_info": {
   "codemirror_mode": {
    "name": "ipython",
    "version": 3
   },
   "file_extension": ".py",
   "mimetype": "text/x-python",
   "name": "python",
   "nbconvert_exporter": "python",
   "pygments_lexer": "ipython3",
   "version": "3.11.13"
  }
 },
 "nbformat": 4,
 "nbformat_minor": 5
}
